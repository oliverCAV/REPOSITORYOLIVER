{
  "nbformat": 4,
  "nbformat_minor": 0,
  "metadata": {
    "colab": {
      "provenance": [],
      "authorship_tag": "ABX9TyMeDV39Lt2d/JrkXY217ZX6",
      "include_colab_link": true
    },
    "kernelspec": {
      "name": "python3",
      "display_name": "Python 3"
    },
    "language_info": {
      "name": "python"
    }
  },
  "cells": [
    {
      "cell_type": "markdown",
      "metadata": {
        "id": "view-in-github",
        "colab_type": "text"
      },
      "source": [
        "<a href=\"https://colab.research.google.com/github/oliverCAV/REPOSITORYOLIVER/blob/main/IDL2%20TRABAJO.ipynb\" target=\"_parent\"><img src=\"https://colab.research.google.com/assets/colab-badge.svg\" alt=\"Open In Colab\"/></a>"
      ]
    },
    {
      "cell_type": "markdown",
      "source": [
        "1) El director de una escuela está organizando un viaje de estudios, y\n",
        "requiere determinar cuánto debe cobrar a cada alumno y cuánto debe\n",
        "pagar a la compañía de viajes por el servicio. La forma de cobrar es la\n",
        "siguiente: si son 100 alumnos o más, el costo por cada\n",
        "alumno es de S/65.00; de 50 a 99 alumnos, el costo es de\n",
        "S/ 70.00, de 30 a 49, de S/ 95.00, y si son menos de 30, el\n",
        "costo de la renta del autobús es de S/ 4000.00, sin importar\n",
        "el número de alumnos. Realice un algoritmo que permita\n",
        "determinar el pago a la compañía de autobuses y lo que debe pagar\n",
        "cada alumno por el viaje\n"
      ],
      "metadata": {
        "id": "julyatzLReuM"
      }
    },
    {
      "cell_type": "code",
      "source": [
        "def calcular_monto_pago_alumno_bus(alumnos):\n",
        "  if alumnos >= 100:\n",
        "    monto_alumno = 65\n",
        "    total_pagar = 65 * alumnos\n",
        "  elif alumnos >= 50:\n",
        "    monto_alumno = 70\n",
        "    total_pagar = 70 * alumnos\n",
        "  elif alumnos >= 30:\n",
        "    monto_alumno = 95\n",
        "    total_pagar = 95 * alumnos\n",
        "  else:\n",
        "    monto_alumno = 4000 / alumnos\n",
        "    total_pagar = 4000\n",
        "  return monto_alumno, total_pagar\n",
        "\n",
        "alumnos = int(input(\"Ingrese número de alumnos que viajaran: \"))\n",
        "monto_alumno, total_pagar = calcular_monto_pago_alumno_bus(alumnos)\n",
        "print(f\"La cuota por alumno es: S/ {monto_alumno:.2f}\")\n",
        "print(f\"El pago a la compañia de bus es: S/ {total_pagar:.2f}\")\n",
        "\n",
        "\n"
      ],
      "metadata": {
        "colab": {
          "base_uri": "https://localhost:8080/"
        },
        "id": "X7gWSBjtRhaE",
        "outputId": "2b5ca1e1-9a5b-4a53-b5a6-d8528b31eae4"
      },
      "execution_count": null,
      "outputs": [
        {
          "output_type": "stream",
          "name": "stdout",
          "text": [
            "Ingrese número de alumnos que viajaran: 101\n",
            "La cuota por alumno es: S/ 65.00\n",
            "El pago a la compañia de bus es: S/ 6565.00\n"
          ]
        }
      ]
    },
    {
      "cell_type": "markdown",
      "source": [
        "2) La langosta ahumada” es una empresa dedicada a ofrecer banquetes;\n",
        "sus tarifas son las siguientes: el costo de platillo por persona es de\n",
        "S/.95.00, pero si el número de personas es mayor a 200 pero menor o\n",
        "igual a 300, el costo es de S/.85.00. Para más de 300 personas el costo\n",
        "por platillo es de S/.75.00. Se requiere un algoritmo que ayude a\n",
        "determinar el presupuesto que se debe presentar a los clientes que\n",
        "deseen realizar un evento."
      ],
      "metadata": {
        "id": "GeRgc5Llgy6L"
      }
    },
    {
      "cell_type": "code",
      "source": [
        "def calcular_presupuesto(n_personas):\n",
        "\n",
        "    if n_personas <= 200:\n",
        "        costo_persona = 95.00\n",
        "    elif n_personas <= 300:\n",
        "        costo_persona = 85.00\n",
        "    else:\n",
        "        costo_persona = 75.00\n",
        "    costo_total = n_personas * costo_persona\n",
        "    return costo_total\n",
        "\n",
        "\n",
        "n_personas = int(input(\"Ingresa el número de personas para el evento: \"))\n",
        "\n",
        "\n",
        "presupuesto = calcular_presupuesto(n_personas)\n",
        "print(f\"El presupuesto total para {n_personas} personas es: S/.{presupuesto:.2f}\")"
      ],
      "metadata": {
        "id": "2OX6_WgTg2Zh",
        "outputId": "ddc1037c-982a-46c5-98dd-d401fa88456b",
        "colab": {
          "base_uri": "https://localhost:8080/"
        }
      },
      "execution_count": 6,
      "outputs": [
        {
          "output_type": "stream",
          "name": "stdout",
          "text": [
            "Ingresa el número de personas para el evento: 301\n",
            "El presupuesto total para 301 personas es: S/.22575.00\n"
          ]
        }
      ]
    },
    {
      "cell_type": "markdown",
      "source": [
        "3)Por cierrapuertas en un almacén se rebaja 10% del precio al cliente si\n",
        "compra más de 20 artículos y 5% si compra hasta 20 artículos. Dado el\n",
        "precio unitario de un artículo y la cantidad adquirida, muestre lo que\n",
        "debe pagar el cliente."
      ],
      "metadata": {
        "id": "d_om5FU_aHQF"
      }
    },
    {
      "cell_type": "code",
      "source": [
        "def calcular_total(precio_art, cantidad_art):\n",
        "    precio_total_sin_desc = precio_art * cantidad_art\n",
        "\n",
        "    if cantidad_art > 20:\n",
        "        descuento = 0.10\n",
        "    else:\n",
        "        descuento = 0.05\n",
        "\n",
        "\n",
        "    precio_total_con_descuento = precio_total_sin_desc * (1 - descuento)\n",
        "    return precio_total_con_descuento\n",
        "\n",
        "\n",
        "precio_art = float(input(\"Ingresa el precio unitario del artículo: \"))\n",
        "cantidad_art = int(input(\"Ingresa la cantidad de artículos adquiridos: \"))\n",
        "\n",
        "\n",
        "total_pagar = calcular_total(precio_art, cantidad_art)\n",
        "print(f\"El total a pagar es: S/.{total_pagar:.2f}\")"
      ],
      "metadata": {
        "id": "BccNlooXbjyG",
        "outputId": "2c86b56f-7c35-4011-cc92-21f93aa8db32",
        "colab": {
          "base_uri": "https://localhost:8080/"
        }
      },
      "execution_count": 9,
      "outputs": [
        {
          "output_type": "stream",
          "name": "stdout",
          "text": [
            "Ingresa el precio unitario del artículo: 20\n",
            "Ingresa la cantidad de artículos adquiridos: 21\n",
            "El total a pagar es: S/.378.00\n"
          ]
        }
      ]
    },
    {
      "cell_type": "markdown",
      "source": [
        "4)Determinar si un alumno aprueba a reprueba un curso, sabiendo que\n",
        "aprobara si su promedio de tres calificaciones es mayor o igual a 13;\n",
        "reprueba en caso contrario."
      ],
      "metadata": {
        "id": "WYO-XUTtdnNy"
      }
    },
    {
      "cell_type": "code",
      "source": [
        "def definir_aprobado_desaprobado(nota_1, nota_2, nota_3):\n",
        "    prome = (nota_1 +  nota_2 + nota_3) / 3\n",
        "    if prome > 13:\n",
        "        return \"Aprobado\"\n",
        "    else:\n",
        "         return \"Desaprobado\"\n",
        "\n",
        "\n",
        "\n",
        "nota_1 = float(input(\"Ingrese la nota 1: \"))\n",
        "nota_2 = float(input(\"Ingrese la nota 2: \"))\n",
        "nota_3 = float(input(\"Ingrese la nota 3: \"))\n",
        "\n",
        "promedio = definir_aprobado_desaprobado(nota_1,nota_2,nota_3)\n",
        "\n",
        "print(f\"El alumno esta: {promedio}\")"
      ],
      "metadata": {
        "id": "RlqSIBS7eDLb",
        "outputId": "167d1d3f-6f6a-4f2e-c0ae-363e97ef9f32",
        "colab": {
          "base_uri": "https://localhost:8080/"
        }
      },
      "execution_count": 11,
      "outputs": [
        {
          "output_type": "stream",
          "name": "stdout",
          "text": [
            "Ingrese la nota 1: 20\n",
            "Ingrese la nota 2: 20\n",
            "Ingrese la nota 3: 20\n",
            "El alumno esta: Aprobado\n"
          ]
        }
      ]
    },
    {
      "cell_type": "markdown",
      "source": [
        "5)Realice un algoritmo para determinar cuanto se debe pagar por X\n",
        "cantidad de productos, considerando que si son 1000 o más, el consto\n",
        "por unidad es de S/0.85 y de lo contrario es de S/0.9."
      ],
      "metadata": {
        "id": "x_hc7kmMloeb"
      }
    },
    {
      "cell_type": "code",
      "source": [
        "def calcular_monto(cant_productos):\n",
        "\n",
        "    if cant_productos >= 1000:\n",
        "        costo_uni = 0.85\n",
        "    else:\n",
        "         costo_uni = 0.9\n",
        "\n",
        "    costo_total = cant_productos * costo_uni\n",
        "    return costo_total\n",
        "\n",
        "\n",
        "cant_productos = float(input(\"Ingrese la cantidad de productos: \"))\n",
        "costo_pagar_cliente = calcular_monto(cant_productos)\n",
        "print(f\"El cliente debe pagar: S/{costo_pagar_cliente}\")"
      ],
      "metadata": {
        "id": "qRiqQ734lsbD",
        "outputId": "d70bb4f2-58d8-40f3-bf37-954e94803ef8",
        "colab": {
          "base_uri": "https://localhost:8080/"
        }
      },
      "execution_count": 12,
      "outputs": [
        {
          "output_type": "stream",
          "name": "stdout",
          "text": [
            "Ingrese la cantidad de productos: 5\n",
            "El cliente debe pagar: S/4.5\n"
          ]
        }
      ]
    },
    {
      "cell_type": "markdown",
      "source": [
        "6)Crear los siguientes Pseudocodigo y diagrama que pida un\n",
        "número del 1 al 7 y diga el día de la semana correspondiente."
      ],
      "metadata": {
        "id": "Ipq_Y3kFzuPW"
      }
    },
    {
      "cell_type": "code",
      "source": [
        "numero = int(input(\"Ingresa un número del 1 al 7: \"))\n",
        "\n",
        "if numero == 1:\n",
        "    print(\"Lunes\")\n",
        "elif numero == 2:\n",
        "    print(\"Martes\")\n",
        "elif numero == 3:\n",
        "    print(\"Miércoles\")\n",
        "elif numero == 4:\n",
        "    print(\"Jueves\")\n",
        "elif numero == 5:\n",
        "    print(\"Viernes\")\n",
        "elif numero == 6:\n",
        "    print(\"Sábado\")\n",
        "elif numero == 7:\n",
        "    print(\"Domingo\")\n",
        "else:\n",
        "    print(\"Número inválido, ingresa un número del 1 al 7\")"
      ],
      "metadata": {
        "id": "T_9kUGie0GK9",
        "outputId": "123e1ac2-dab2-4210-bf83-dd6a2b83cfb9",
        "colab": {
          "base_uri": "https://localhost:8080/"
        }
      },
      "execution_count": 14,
      "outputs": [
        {
          "output_type": "stream",
          "name": "stdout",
          "text": [
            "Ingresa un número del 1 al 7: 5\n",
            "Viernes\n"
          ]
        }
      ]
    },
    {
      "cell_type": "markdown",
      "source": [
        "7) Realice un algoritmo para determinar si un número es positivo o\n",
        "negativo o igual a cero."
      ],
      "metadata": {
        "id": "_h-XlTa-G1VW"
      }
    },
    {
      "cell_type": "code",
      "source": [
        "def determinar_signo(numero):\n",
        "    if numero > 0:\n",
        "        return \"El número es positivo\"\n",
        "    elif numero < 0:\n",
        "        return \"El número es negativo\"\n",
        "    else:\n",
        "        return \"El número es cero\"\n",
        "\n",
        "numero = float(input(\"Ingresa un número: \"))\n",
        "resultado = determinar_signo(numero)\n",
        "print(resultado)"
      ],
      "metadata": {
        "id": "cTMo4VMCG37u"
      },
      "execution_count": null,
      "outputs": []
    },
    {
      "cell_type": "markdown",
      "source": [
        "8) Determinar el estado de un estudiante. Sabiendo que si su nota final el\n",
        "de 0-9 está desaprobado, de 11-12 está en proceso de recuperación y\n",
        "si tiene de 13-20 está aprobado."
      ],
      "metadata": {
        "id": "e2Wq-qYxHq51"
      }
    },
    {
      "cell_type": "code",
      "source": [
        "def estado_estudiante(nota):\n",
        "    if 0 <= nota <= 10:\n",
        "        return \"Desaprobado\"\n",
        "    elif 11 <= nota <= 12:\n",
        "        return \"En proceso de recuperación\"\n",
        "    elif 13 <= nota <= 20:\n",
        "        return \"Aprobado\"\n",
        "    else:\n",
        "        return \"Nota inválida\"\n",
        "\n",
        "nota = float(input(\"Ingresa la nota final del estudiante: \"))\n",
        "\n",
        "estado = estado_estudiante(nota)\n",
        "print(estado)"
      ],
      "metadata": {
        "id": "pxSWO12PInQl"
      },
      "execution_count": null,
      "outputs": []
    },
    {
      "cell_type": "markdown",
      "source": [
        "9) Solicitar al usuario el código de un producto compuesto por\n",
        "5 números enteros, donde basado en los dos primeros dígitos se sabrá\n",
        "a que categoría de productos pertenece.\n",
        "\n",
        "• “10” Panadería\n",
        "• “20” almacén\n",
        "• “30” frescos\n",
        "• “40” bazar"
      ],
      "metadata": {
        "id": "JhtLIVCwIscF"
      }
    },
    {
      "cell_type": "code",
      "source": [
        "def clasificar_producto(codigo):\n",
        "\n",
        "    prefijo = codigo[:2]\n",
        "\n",
        "    # Clasificar según el prefijo\n",
        "    if prefijo == \"10\":\n",
        "        return \"Panadería\"\n",
        "    elif prefijo == \"20\":\n",
        "        return \"Almacén\"\n",
        "    elif prefijo == \"30\":\n",
        "        return \"Frescos\"\n",
        "    elif prefijo == \"40\":\n",
        "        return \"Bazar\"\n",
        "    else:\n",
        "        return \"Categoría no válida\"\n",
        "\n",
        "\n",
        "codigo_producto = input(\"Introduce el código del producto (5 números): \")\n",
        "\n",
        "\n",
        "if len(codigo_producto) == 5 and codigo_producto.isdigit():\n",
        "\n",
        "    resultado = clasificar_producto(codigo_producto)\n",
        "    print(f\"El producto pertenece a la categoría: {resultado}\")\n",
        "else:\n",
        "    print(\"El código introducido no es válido. Debe contener exactamente 5 números.\")"
      ],
      "metadata": {
        "id": "UjVPF_wnKSGw"
      },
      "execution_count": null,
      "outputs": []
    },
    {
      "cell_type": "markdown",
      "source": [
        "10) ¿Dada la duración en minutos de una llamada calcular el costo,\n",
        "considerando? Hasta tres minutos el costo es 0.10 Por encima de tres\n",
        "minutos es 0.15 por cada minuto transcurrido luego de los 3 primeros\n",
        "minutos."
      ],
      "metadata": {
        "id": "Nt_57AXfKcm-"
      }
    },
    {
      "cell_type": "code",
      "source": [
        "def calcular_costo_llamada(minutos):\n",
        "    if minutos <= 3:\n",
        "        return 0.10  # Costo fijo para los primeros 3 minutos\n",
        "    else:\n",
        "\n",
        "        return 0.10 + (minutos - 3) * 0.15\n",
        "\n",
        "\n",
        "minutos = float(input(\"Ingresa la duración de la llamada en minutos: \"))\n",
        "\n",
        "\n",
        "costo = calcular_costo_llamada(minutos)\n",
        "print(f\"El costo de la llamada es: S/.{costo:.2f}\")"
      ],
      "metadata": {
        "id": "H5FKoaPXK7m1"
      },
      "execution_count": null,
      "outputs": []
    }
  ]
}