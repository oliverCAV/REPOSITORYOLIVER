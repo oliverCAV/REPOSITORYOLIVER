{
  "nbformat": 4,
  "nbformat_minor": 0,
  "metadata": {
    "colab": {
      "provenance": [],
      "authorship_tag": "ABX9TyNWGPDo54gxhZmqVF/d+ODt",
      "include_colab_link": true
    },
    "kernelspec": {
      "name": "python3",
      "display_name": "Python 3"
    },
    "language_info": {
      "name": "python"
    }
  },
  "cells": [
    {
      "cell_type": "markdown",
      "metadata": {
        "id": "view-in-github",
        "colab_type": "text"
      },
      "source": [
        "<a href=\"https://colab.research.google.com/github/oliverCAV/REPOSITORYOLIVER/blob/main/IDL2%20TRABAJO.ipynb\" target=\"_parent\"><img src=\"https://colab.research.google.com/assets/colab-badge.svg\" alt=\"Open In Colab\"/></a>"
      ]
    },
    {
      "cell_type": "markdown",
      "source": [
        "1) El director de una escuela está organizando un viaje de estudios, y\n",
        "requiere determinar cuánto debe cobrar a cada alumno y cuánto debe\n",
        "pagar a la compañía de viajes por el servicio. La forma de cobrar es la\n",
        "siguiente: si son 100 alumnos o más, el costo por cada\n",
        "alumno es de S/65.00; de 50 a 99 alumnos, el costo es de\n",
        "S/ 70.00, de 30 a 49, de S/ 95.00, y si son menos de 30, el\n",
        "costo de la renta del autobús es de S/ 4000.00, sin importar\n",
        "el número de alumnos. Realice un algoritmo que permita\n",
        "determinar el pago a la compañía de autobuses y lo que debe pagar\n",
        "cada alumno por el viaje\n"
      ],
      "metadata": {
        "id": "julyatzLReuM"
      }
    },
    {
      "cell_type": "code",
      "source": [
        "def calcular_monto_pago_alumno_bus(alumnos):\n",
        "  if alumnos >= 100:\n",
        "    monto_alumno = 65\n",
        "    total_pagar = 65 * alumnos\n",
        "  elif alumnos >= 50:\n",
        "    monto_alumno = 70\n",
        "    total_pagar = 70 * alumnos\n",
        "  elif alumnos >= 30:\n",
        "    monto_alumno = 95\n",
        "    total_pagar = 95 * alumnos\n",
        "  else:\n",
        "    monto_alumno = 4000 / alumnos\n",
        "    total_pagar = 4000\n",
        "  return monto_alumno, total_pagar\n",
        "\n",
        "alumnos = int(input(\"Ingrese número de alumnos que viajaran: \"))\n",
        "monto_alumno, total_pagar = calcular_monto_pago_alumno_bus(alumnos)\n",
        "print(f\"La cuota por alumno es: S/ {monto_alumno:.2f}\")\n",
        "print(f\"El pago a la compañia de bus es: S/ {total_pagar:.2f}\")\n",
        "\n",
        "\n"
      ],
      "metadata": {
        "colab": {
          "base_uri": "https://localhost:8080/"
        },
        "id": "X7gWSBjtRhaE",
        "outputId": "2b5ca1e1-9a5b-4a53-b5a6-d8528b31eae4"
      },
      "execution_count": 7,
      "outputs": [
        {
          "output_type": "stream",
          "name": "stdout",
          "text": [
            "Ingrese número de alumnos que viajaran: 101\n",
            "La cuota por alumno es: S/ 65.00\n",
            "El pago a la compañia de bus es: S/ 6565.00\n"
          ]
        }
      ]
    }
  ]
}