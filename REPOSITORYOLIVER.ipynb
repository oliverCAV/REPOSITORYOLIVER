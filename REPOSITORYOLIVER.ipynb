{
  "nbformat": 4,
  "nbformat_minor": 0,
  "metadata": {
    "colab": {
      "provenance": [],
      "include_colab_link": true
    },
    "kernelspec": {
      "name": "python3",
      "display_name": "Python 3"
    },
    "language_info": {
      "name": "python"
    }
  },
  "cells": [
    {
      "cell_type": "markdown",
      "metadata": {
        "id": "view-in-github",
        "colab_type": "text"
      },
      "source": [
        "<a href=\"https://colab.research.google.com/github/oliverCAV/REPOSITORYOLIVER/blob/main/REPOSITORYOLIVER.ipynb\" target=\"_parent\"><img src=\"https://colab.research.google.com/assets/colab-badge.svg\" alt=\"Open In Colab\"/></a>"
      ]
    },
    {
      "cell_type": "code",
      "execution_count": null,
      "metadata": {
        "id": "37xcyyz00QaH",
        "colab": {
          "base_uri": "https://localhost:8080/"
        },
        "outputId": "b9e21a74-354e-4a2f-c786-fe350d320de2"
      },
      "outputs": [
        {
          "output_type": "stream",
          "name": "stdout",
          "text": [
            "Ingrese su edad: 15\n",
            "Menor de Edad\n"
          ]
        }
      ],
      "source": [
        "#Programa para determinar si una persona es mayor de edad\n",
        "edad = int(input(\"Ingrese su edad: \"))\n",
        "\n",
        "if edad >= 18:\n",
        "  print(\"Mayor de Edad\")\n",
        "else:\n",
        "  print(\"Menor de Edad\")"
      ]
    },
    {
      "cell_type": "code",
      "source": [
        "#Programar para ingresar el sueldo y verificar si debe abonar impuestos\n",
        "sueldo = float(input(\"Ingrese su sueldo en soles:\"))\n",
        "\n",
        "if sueldo > 3000:\n",
        "  print(\"Debe abonar impuestos\")\n",
        "else:\n",
        "  print(\"No debe abonar impuestos\")"
      ],
      "metadata": {
        "colab": {
          "base_uri": "https://localhost:8080/"
        },
        "id": "8Bayx8dv4kZF",
        "outputId": "cf49ad02-a1b6-4d59-a0a7-6512be5e6e32"
      },
      "execution_count": null,
      "outputs": [
        {
          "output_type": "stream",
          "name": "stdout",
          "text": [
            "Ingrese su sueldo en soles:3000.50\n",
            "Debe abonar impuestos\n"
          ]
        }
      ]
    },
    {
      "cell_type": "code",
      "source": [
        "#Programar para verificar si un número es positivo y elevarlo al cuadrado\n",
        "numero = int(input(\"Ingrese un número entero: \"))\n",
        "\n",
        "if numero > 0:\n",
        "  print(f\"El número {numero} es positivo\")\n",
        "  cuadrado = numero ** 2\n",
        "  print(f\"El número elevado al cuadrado es: {cuadrado}\")\n",
        "else:\n",
        "  print(\"El número no es positivo.\")"
      ],
      "metadata": {
        "colab": {
          "base_uri": "https://localhost:8080/"
        },
        "id": "mWMUtHgK5nrT",
        "outputId": "4ca7c365-c955-425f-da59-3c6328317944"
      },
      "execution_count": null,
      "outputs": [
        {
          "output_type": "stream",
          "name": "stdout",
          "text": [
            "Ingrese un número entero: -52\n",
            "El número no es positivo\n"
          ]
        }
      ]
    },
    {
      "cell_type": "code",
      "source": [
        "#Valores de las variables\n",
        "X = True\n",
        "Y = False\n",
        "Z = True\n",
        "\n",
        "#Evaluación de las expresiones lógicas\n",
        "print(f\"X AND Y: {X and Y}\")\n",
        "print(f\"X OR Y: {X or Y}\")\n",
        "print(f\"(X AND Y) OR (X AND Z): {(X and Y) or (X and Z)}\")"
      ],
      "metadata": {
        "colab": {
          "base_uri": "https://localhost:8080/"
        },
        "id": "FmXmUUGV9P3B",
        "outputId": "1e439565-6897-488a-bc7e-bdca3c0b875d"
      },
      "execution_count": null,
      "outputs": [
        {
          "output_type": "stream",
          "name": "stdout",
          "text": [
            "X AND Y: False\n",
            "X OR Y: True\n",
            "(X AND Y) OR (X AND Z): True\n"
          ]
        }
      ]
    },
    {
      "cell_type": "code",
      "source": [
        "#Programa para validar si una persona tiene entre 18 y 25 años\n",
        "edad = int(input(\"Ingrese su edad: \"))\n",
        "\n",
        "if 18 < edad < 25:\n",
        "  print(\"Tienes un 10% de descuento\")\n",
        "else:\n",
        "  print (\"No tienes descuento\")"
      ],
      "metadata": {
        "colab": {
          "base_uri": "https://localhost:8080/"
        },
        "id": "v2DyFNq0-Zrt",
        "outputId": "57f000b6-4c49-4031-abab-752d4391ded5"
      },
      "execution_count": null,
      "outputs": [
        {
          "output_type": "stream",
          "name": "stdout",
          "text": [
            "Ingrese su edad: 20\n",
            "Tienes un 10% de descuento\n"
          ]
        }
      ]
    },
    {
      "cell_type": "code",
      "source": [
        "import getpass\n",
        "\n",
        "#registro del usuario y contraseña\n",
        "usuario_registrado = input(\"Registra tu nombre de usuario: \")\n",
        "while True:\n",
        "  contrasena_registrada = getpass.getpass(\"Registra tu contraseña: \")\n",
        "  confirmar_contrasena = getpass.getpass(\"Confirma tu contraseña: \")\n",
        "  if contrasena_registrada == confirmar_contrasena:\n",
        "    break\n",
        "  else:\n",
        "    print(\"Las contraseñas no coinciden. Intente nuevamente.\")\n",
        "\n",
        "#validar el ingreso\n",
        "usuario_ingresado = input(\"Ingresa tu usuario: \")\n",
        "contrasena_ingresada = getpass.getpass(\"Ingresa tu contraseña: \")\n",
        "\n",
        "if usuario_ingresado == usuario_registrado and contrasena_ingresada == contrasena_registrada:\n",
        "  print(\"Acceso permitido\")\n",
        "else:\n",
        "  print(\"Usuario o contraseña incorrectos\")"
      ],
      "metadata": {
        "colab": {
          "base_uri": "https://localhost:8080/"
        },
        "id": "lCk3pvGN_0Zb",
        "outputId": "0b9f0c79-3196-4d8d-c63e-bebb185fd87b"
      },
      "execution_count": null,
      "outputs": [
        {
          "output_type": "stream",
          "name": "stdout",
          "text": [
            "Registra tu nombre de usuario: sorizano\n",
            "Registra tu contraseña: ··········\n",
            "Confirma tu contraseña: ··········\n",
            "Ingresa tu usuario: sorizano\n",
            "Ingresa tu contraseña: ··········\n",
            "Acceso permitido\n"
          ]
        }
      ]
    },
    {
      "cell_type": "code",
      "source": [
        "while True:\n",
        "  user_input = input(\"Escribe 'salir' para terminar con el programa: \")\n",
        "  if user_input == 'salir':\n",
        "    print(\"Termina el bucle\")\n",
        "    break\n",
        "  else:\n",
        "    print(\"No has escrito 'salir'.\")"
      ],
      "metadata": {
        "id": "PeHbc898C46A"
      },
      "execution_count": null,
      "outputs": []
    },
    {
      "cell_type": "code",
      "source": [],
      "metadata": {
        "id": "5TU6tdtPkdfu"
      },
      "execution_count": null,
      "outputs": []
    }
  ]
}